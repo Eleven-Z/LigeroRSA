{
 "cells": [
  {
   "cell_type": "markdown",
   "metadata": {},
   "source": [
    "$$public-key: matrix \\quad A \\in \\mathbb{Z}_{q}^{n \\times m}$$\n",
    "$$secret-key: s=(1|s′) \\in \\mathbb{Z}_{q}$$\n",
    "\n",
    "$$ \\textrm{KeyGeneration() -> A, s}$$\n",
    "\n",
    "$$ \\textrm{Choose} \\quad s′ \\in_R \\mathbb{Z}^{n−1}_{q} \\quad \\textrm{and write} \\quad  s = (1 | s')$$\n",
    "$$ \\textrm{Choose} \\quad e \\leftarrow \\chi^m $$\n",
    "$$ \\textrm{Choose} \\quad A' \\in \\mathbb{Z}_q^{{(n-1)}\\times m}$$. \n",
    "$$ \\textrm{Compute} \\quad b = e-(s')^TA'.$$\n",
    "$$ \\textrm{Set} \\quad A = \\textrm{matrix where b is the first row and the rest of the rows} =A'$$\n",
    "$$ A = \\left(\\begin{array}{cc}-b-\\\\ A' \\end{array}\\right)$$\n",
    "\n",
    "\n",
    "$$\\textrm{Enc}(\\sigma \\in \\mathbb{Z}_p)\\quad \\textrm{where} \\quad p\\quad < q$$\n",
    "\n",
    "$$r \\leftarrow \\chi^m$$\n",
    "\n",
    "$$c = [Ar+(\\lfloor \\sigma \\cdot q/p \\rfloor)(1,0,0,...,0)]_q$$\n",
    "\n",
    "\n",
    "$$\\textrm{Dec}(c,s):$$\n",
    "\n",
    "$$\\textrm{Inner product of} \\quad v=[\\langle s, c \\rangle]_q$$\n",
    "$$\\textrm{Compute} \\quad \\lfloor v \\times p/q \\rfloor$$\n",
    "$$s^TAr + \\lfloor \\sigma \\cdot q/p \\rfloor$$\n",
    "\n",
    "$$s^TAr = (1|s')^T\\left(\\begin{array}{cc}-b-\\\\ A' \\end{array}\\right)r = (b+(s')^TA')r = (e^T - (s'^T)A'+((s'^T)A')r = e^Tr$$\n",
    "\n"
   ]
  },
  {
   "cell_type": "code",
   "execution_count": 2,
   "metadata": {},
   "outputs": [
    {
     "ename": "ImportError",
     "evalue": "cannot import name 'ligero'",
     "output_type": "error",
     "traceback": [
      "\u001b[0;31m---------------------------------------------------------------------------\u001b[0m",
      "\u001b[0;31mImportError\u001b[0m                               Traceback (most recent call last)",
      "\u001b[0;32m<ipython-input-2-04ec0bf6acee>\u001b[0m in \u001b[0;36m<module>\u001b[0;34m()\u001b[0m\n\u001b[0;32m----> 1\u001b[0;31m \u001b[0;32mfrom\u001b[0m \u001b[0;34m.\u001b[0m \u001b[0;32mimport\u001b[0m \u001b[0mligero\u001b[0m\u001b[0;34m\u001b[0m\u001b[0m\n\u001b[0m",
      "\u001b[0;31mImportError\u001b[0m: cannot import name 'ligero'"
     ]
    }
   ],
   "source": []
  },
  {
   "cell_type": "code",
   "execution_count": 10,
   "metadata": {},
   "outputs": [
    {
     "name": "stdout",
     "output_type": "stream",
     "text": [
      "q =  1340780792994259709957402499820584612747936582059239337772356144372176403007354697680187429816690342769003185818648605085375388281194656994643364900\n",
      "p =  340282366920938463463374607431768211455\n"
     ]
    }
   ],
   "source": [
    "import math\n",
    "import numpy as np\n",
    "from pprint import pprint\n",
    "import random\n",
    "\n",
    "ChiSTD = 3.2 * 4\n",
    "SecretMessageSigma = 1\n",
    "\n",
    "q = 1340780792994259709957402499820584612747936582059239337772356144372176403007354697680187429816690342769003185818648605085375388281194656994643364900\n",
    "print(\"q = \", q)\n",
    "p = 340282366920938463463374607431768211455\n",
    "print(\"p = \", p)\n",
    "\n",
    "n = 2\n",
    "m = 2"
   ]
  },
  {
   "cell_type": "code",
   "execution_count": 14,
   "metadata": {},
   "outputs": [
    {
     "name": "stdout",
     "output_type": "stream",
     "text": [
      "[1 2899080472012973701449238657691144912\n",
      " 201029510790994576963769176931326900594]\n"
     ]
    }
   ],
   "source": [
    "def generateKeys():\n",
    "    sprime = []\n",
    "    sprime.append(1)\n",
    "    for _ in range(n):\n",
    "      sprime.append(random.getrandbits(128) % q)\n",
    "    s = np.array(sprime)\n",
    "    eprime = []\n",
    "    \n",
    "    for _ in range(m):\n",
    "      eprime.append(0)\n",
    "    e = np.array(eprime)\n",
    "    return {\"s\":s, \"A\":A}\n",
    "    \n",
    "    \n",
    "keys = generateKeys()\n",
    "print(keys)\n"
   ]
  },
  {
   "cell_type": "code",
   "execution_count": 7,
   "metadata": {},
   "outputs": [
    {
     "name": "stdout",
     "output_type": "stream",
     "text": [
      "Sigma =  1 \n",
      "\n",
      "r =  [-4  2 -2] \n",
      "\n",
      "cprime =  [29328288400520622882860467459894979154131035150580408025009084735645322255682920810692681865114430890494535604910055051260752775951034689835943017435762017\n",
      " 30\n",
      " -29328288400520622882860467459894979154091633144384013545796805695545178641877725279332979102251059026105281195230704230382305948193646853236521044547603826\n",
      " 31\n",
      " -40740742453138361403133355882170855090191458014215486301963788896311854393584685039583922605385579431390449945150722695149160700984214549790186134204421536] \n",
      "\n",
      "c =  [2512672540635428683712417463483286899172303509395621269561961848201794195535826857088933268780624035114471888537082949553245010327141549943075719423593827\n",
      " -2512672540635428683712417463483286899132901503199226790349682808101650581730631325729230505917252170725217478857732128674798182569753713343653746535435636\n",
      " -517318663310570104411280887553316707753360552438306168793104565146562303364044109178299710884869148320354370591264542587899052548374839950885187186169251] \n",
      "\n",
      "[ 2512672540635428683712417463483286899172303509395621269561961848201794195535826857088933268780624035114471888537082949553245010327141549943075719423593827,\n",
      "  -2512672540635428683712417463483286899132901503199226790349682808101650581730631325729230505917252170725217478857732128674798182569753713343653746535435636,\n",
      "  -517318663310570104411280887553316707753360552438306168793104565146562303364044109178299710884869148320354370591264542587899052548374839950885187186169251]\n"
     ]
    },
    {
     "ename": "NameError",
     "evalue": "name 'secretKey' is not defined",
     "output_type": "error",
     "traceback": [
      "\u001b[0;31m---------------------------------------------------------------------------\u001b[0m",
      "\u001b[0;31mNameError\u001b[0m                                 Traceback (most recent call last)",
      "\u001b[0;32m<ipython-input-7-7319931935cc>\u001b[0m in \u001b[0;36m<module>\u001b[0;34m()\u001b[0m\n\u001b[1;32m     34\u001b[0m     \u001b[0mprint\u001b[0m\u001b[0;34m(\u001b[0m\u001b[0;34m\"dprime = \"\u001b[0m\u001b[0;34m,\u001b[0m \u001b[0mdprime\u001b[0m\u001b[0;34m)\u001b[0m\u001b[0;34m\u001b[0m\u001b[0m\n\u001b[1;32m     35\u001b[0m \u001b[0;34m\u001b[0m\u001b[0m\n\u001b[0;32m---> 36\u001b[0;31m \u001b[0mdecryptedMessage\u001b[0m \u001b[0;34m=\u001b[0m \u001b[0mDec\u001b[0m\u001b[0;34m(\u001b[0m\u001b[0mencryptedMessage\u001b[0m\u001b[0;34m,\u001b[0m \u001b[0msecretKey\u001b[0m\u001b[0;34m)\u001b[0m\u001b[0;34m\u001b[0m\u001b[0m\n\u001b[0m",
      "\u001b[0;31mNameError\u001b[0m: name 'secretKey' is not defined"
     ]
    }
   ],
   "source": [
    "\n",
    "\n",
    "\n",
    "def Enc(sigma):\n",
    "    r = np.array([-4, 2, -2])\n",
    "    print(\"r = \", r, \"\\n\")\n",
    "    cprime = np.array([\n",
    "        29328288400520622882860467459894979154131035150580408025009084735645322255682920810692681865114430890494535604910055051260752775951034689835943017435762017\n",
    "       ,30\n",
    "       ,-29328288400520622882860467459894979154091633144384013545796805695545178641877725279332979102251059026105281195230704230382305948193646853236521044547603826\n",
    "       ,31\n",
    "       ,-40740742453138361403133355882170855090191458014215486301963788896311854393584685039583922605385579431390449945150722695149160700984214549790186134204421536\n",
    "    ])\n",
    "    print(\"cprime = \", cprime, \"\\n\")\n",
    "    c = np.array([\n",
    "2512672540635428683712417463483286899172303509395621269561961848201794195535826857088933268780624035114471888537082949553245010327141549943075719423593827\n",
    ",-2512672540635428683712417463483286899132901503199226790349682808101650581730631325729230505917252170725217478857732128674798182569753713343653746535435636\n",
    ",-517318663310570104411280887553316707753360552438306168793104565146562303364044109178299710884869148320354370591264542587899052548374839950885187186169251 \n",
    "    ])\n",
    "    return c\n",
    "\n",
    "print(\"Sigma = \", SecretMessageSigma, \"\\n\")\n",
    "encryptedMessage = Enc(SecretMessageSigma)\n",
    "print(\"c = \", encryptedMessage, \"\\n\")\n",
    "pprint(encryptedMessage.tolist(), indent=2)\n",
    "\n",
    "\n",
    "#    Inner product of v=[⟨s,c⟩]q: 39402006196394479212279040100143613805195531359702762863371864389254409679350820878446827757387836599421972888158191\n",
    "def Dec(c, s):\n",
    "    vprime = np.dot(s, c)\n",
    "    v = vprime % q\n",
    "    print(\"v = \", v)\n",
    "    dprime = (v * p) / q\n",
    "    print(\"dprime = \", dprime)\n",
    "\n",
    "decryptedMessage = Dec(encryptedMessage, secretKey)"
   ]
  },
  {
   "cell_type": "code",
   "execution_count": null,
   "metadata": {},
   "outputs": [],
   "source": []
  }
 ],
 "metadata": {
  "kernelspec": {
   "display_name": "Python 3",
   "language": "python",
   "name": "python3"
  },
  "language_info": {
   "codemirror_mode": {
    "name": "ipython",
    "version": 3
   },
   "file_extension": ".py",
   "mimetype": "text/x-python",
   "name": "python",
   "nbconvert_exporter": "python",
   "pygments_lexer": "ipython3",
   "version": "3.6.5"
  }
 },
 "nbformat": 4,
 "nbformat_minor": 2
}
